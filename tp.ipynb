{
 "cells": [
  {
   "cell_type": "code",
   "execution_count": 1,
   "metadata": {},
   "outputs": [],
   "source": [
    "import pandas as pd\n",
    "import numpy as np\n",
    "from scipy.stats import pearsonr"
   ]
  },
  {
   "cell_type": "code",
   "execution_count": 2,
   "metadata": {},
   "outputs": [],
   "source": [
    "# Carregando as tabelas\n",
    "df_cadunico = pd.read_csv('cadunico.csv', sep=';', encoding='ISO-8859-1')\n",
    "df_coletas = pd.read_csv('coletas.csv', sep=';', encoding='ISO-8859-1')\n",
    "df_iqvu = pd.read_csv('iqvu.csv', sep=';', encoding='ISO-8859-1')\n",
    "df_up = pd.read_csv('up.csv', sep=',', encoding='ISO-8859-1')"
   ]
  },
  {
   "cell_type": "code",
   "execution_count": 7,
   "metadata": {},
   "outputs": [
    {
     "name": "stdout",
     "output_type": "stream",
     "text": [
      "Index(['PARENTESCO_RF', 'DATA_NASCIMENTO', 'IDADE', 'SEXO', 'BOLSA_FAMILIA',\n",
      "       'POP_RUA', 'GRAU_INSTRUCAO', 'COR_RACA',\n",
      "       'FAIXA_RENDA_FAMILIAR_PER_CAPITA', 'VAL_REMUNERACAO_MES_PASSADO',\n",
      "       'CRAS', 'REGIONAL', 'FAIXA_DESATUALIZACAO_CADASTRAL',\n",
      "       'MES_ANO_REFERENCIA'],\n",
      "      dtype='object')\n",
      "Index(['ANO', 'MÒS', 'REGIONAL', 'MODALIDADE', 'OPERADOR', 'DISTRITO',\n",
      "       'MASSA (t)', 'VIAGENS', 'PERCURSO (Km)', 'Hora (h:mm)', 'DIAS',\n",
      "       'COLETORES', 'HORAS', 'CLASSE'],\n",
      "      dtype='object')\n",
      "Index(['ï»¿SERIE', 'ANO', 'CODUP', 'NOMEUP', 'Hiper_e_Supermercados_M2_hab',\n",
      "       'Hiper_e_Supermercados_estabelecimentos_hab',\n",
      "       'Mercearias_e_similares_M2_hab',\n",
      "       'Mercearias_e_similares_estabelecimentos_hab',\n",
      "       'Restaurantes_e_similares', 'Abrangencia_tiragem_de_publicacões_locais',\n",
      "       'Bens_Tombados', 'Distribuicao_de_equipamentos_culturais',\n",
      "       'Livrarias_e_papelarias_M2_hab', 'Locadoras', 'Banca_de_revista',\n",
      "       'Matricula_na_Educacao_Infantil', 'Matricula_no_Ensino_Fundamental',\n",
      "       'Tamanho_das_turmas_no_Ensino_Fundamental',\n",
      "       'indice_de_Aproveitamento_no_Ensino_Fundamental',\n",
      "       'Matricula_no_Ensino_Medio', 'Tamanho_das_turmas_no_ensino_medio',\n",
      "       'indice_de_Aproveitamento_no_Ensino_Medio',\n",
      "       'Quadras_campos_e_pistas_de_cooper', 'area_residencial_adequada',\n",
      "       'Padrao_de_acabamento',\n",
      "       'Seguranca_do_Terreno_indice_de_risco_geologico_efetivo',\n",
      "       'indice_de_Salubridade_Ambiental', 'agua_tratada', 'Rede_de_Esgoto',\n",
      "       'Fornecimento_de_Energia_Eletrica',\n",
      "       'Possibilidade_de_acesso_Pavimentacao',\n",
      "       'Numero_de_veiculos_por_habitante', 'Frequencia_das_linhas_por_UP',\n",
      "       'Conforto_idade_media_da_frota', 'Tranquilidade_sonora',\n",
      "       'Ausencia_de_coletivos_poluidores', 'area_de_verde__por_habitante',\n",
      "       'Disponibilidade_de_leitos', 'Centros_de_saude',\n",
      "       'Outros_equipamentos_de_assistencia_medica_m2_habitante',\n",
      "       'Equipamentos_odontologicos_m2_habitante',\n",
      "       'Outros_equipamentos_de_assistencia_medica_estabelecimento_hab',\n",
      "       'Equipamentos_odontologicos_estabelecimento_habitante', 'APVP',\n",
      "       'Agencias_bancarias', 'Postos_de_gasolina', 'Farmacias',\n",
      "       'Espacos_publicos_para_inclusao_digital', 'Correios',\n",
      "       'Telefones_Publicos', 'Bancas_de_revista',\n",
      "       'Ausencia_de_criminalidade_homicidios',\n",
      "       'Ausencia_de_tentativas_de_homicidio',\n",
      "       'Ausencia_de_crimes_contra_a_pessoa_tentados_e_consumados',\n",
      "       'Ausencia_de_crimes_contra_o_patrimônio_roubo_e_furto',\n",
      "       'Ausencia_de_furto_de_veiculos', 'Ausencia_de_acidentes_de_trânsito',\n",
      "       'IOL_1_Abastecimento', 'IOL_2_Cultura', 'IOL_3_Educacao',\n",
      "       'IOL_4_Esportes', 'IOL_5_Habitacao', 'IOL_6_Infra-estrutura_urbana',\n",
      "       'IOL_7_Meio_Ambiente', 'IOL_8_Saude', 'IOL_9_Servicos_Urbanos',\n",
      "       'IOL_10_Seguranca_urbana', 'IQVU_1_Abastecimento', 'IQVU_2_Cultura',\n",
      "       'IQVU_3_Educacao', 'IQVU_4_Esportes', 'IQVU_5_Habitacao',\n",
      "       'IQVU_6_Infra-estrutura_urbana', 'IQVU_7_Meio_Ambiente', 'IQVU_8_Saude',\n",
      "       'IQVU_9_Servicos_Urbanos', 'IQVU_10_Seguranca_urbana', 'IOL', 'IQVU'],\n",
      "      dtype='object')\n",
      "Index(['Codigo unidade', 'Nome oficial', 'Nome popular', 'Area', 'Perimetro',\n",
      "       'Aberto', 'Legislacao', 'Cercamento', 'Telefone', 'Nome categoria',\n",
      "       'Ano criacao', 'Ano abertura', 'Endereco', 'Bairro popular', 'TGC',\n",
      "       'Regional', 'Zoneamento 2019', 'Bacia hidrografica'],\n",
      "      dtype='object')\n"
     ]
    }
   ],
   "source": [
    "\n",
    "# Mesclando as tabelas com base na coluna 'regional'\n",
    "print(df_cadunico.columns)\n",
    "print(df_coletas.columns)\n",
    "print(df_iqvu.columns)\n",
    "print(df_up.columns)\n"
   ]
  },
  {
   "cell_type": "code",
   "execution_count": null,
   "metadata": {},
   "outputs": [
    {
     "ename": "KeyError",
     "evalue": "\"['REGIONAL'] not in index\"",
     "output_type": "error",
     "traceback": [
      "\u001b[1;31m---------------------------------------------------------------------------\u001b[0m",
      "\u001b[1;31mKeyError\u001b[0m                                  Traceback (most recent call last)",
      "Cell \u001b[1;32mIn[11], line 6\u001b[0m\n\u001b[0;32m      3\u001b[0m df_iqvu \u001b[38;5;241m=\u001b[39m df_iqvu\u001b[38;5;241m.\u001b[39mreset_index()\n\u001b[0;32m      4\u001b[0m df_up \u001b[38;5;241m=\u001b[39m df_up\u001b[38;5;241m.\u001b[39mreset_index()\n\u001b[1;32m----> 6\u001b[0m df_merged \u001b[38;5;241m=\u001b[39m df_cadunico\u001b[38;5;241m.\u001b[39mmerge(\u001b[43mdf_up\u001b[49m\u001b[43m[\u001b[49m\u001b[43m[\u001b[49m\u001b[38;5;124;43m'\u001b[39;49m\u001b[38;5;124;43mREGIONAL\u001b[39;49m\u001b[38;5;124;43m'\u001b[39;49m\u001b[43m,\u001b[49m\u001b[43m \u001b[49m\u001b[38;5;124;43m'\u001b[39;49m\u001b[38;5;124;43mRegional\u001b[39;49m\u001b[38;5;124;43m'\u001b[39;49m\u001b[43m]\u001b[49m\u001b[43m]\u001b[49m, on\u001b[38;5;241m=\u001b[39m\u001b[38;5;124m'\u001b[39m\u001b[38;5;124mRegional\u001b[39m\u001b[38;5;124m'\u001b[39m, how\u001b[38;5;241m=\u001b[39m\u001b[38;5;124m'\u001b[39m\u001b[38;5;124mleft\u001b[39m\u001b[38;5;124m'\u001b[39m)\n\u001b[0;32m      7\u001b[0m df_merged \u001b[38;5;241m=\u001b[39m df_merged\u001b[38;5;241m.\u001b[39mmerge(df_coletas[[\u001b[38;5;124m'\u001b[39m\u001b[38;5;124mREGIONAL\u001b[39m\u001b[38;5;124m'\u001b[39m, \u001b[38;5;124m'\u001b[39m\u001b[38;5;124mANO\u001b[39m\u001b[38;5;124m'\u001b[39m, \u001b[38;5;124m'\u001b[39m\u001b[38;5;124mMODALIDADE\u001b[39m\u001b[38;5;124m'\u001b[39m, \u001b[38;5;124m'\u001b[39m\u001b[38;5;124mOPERADOR\u001b[39m\u001b[38;5;124m'\u001b[39m, \u001b[38;5;124m'\u001b[39m\u001b[38;5;124mDISTRITO\u001b[39m\u001b[38;5;124m'\u001b[39m]], on\u001b[38;5;241m=\u001b[39m\u001b[38;5;124m'\u001b[39m\u001b[38;5;124mREGIONAL\u001b[39m\u001b[38;5;124m'\u001b[39m, how\u001b[38;5;241m=\u001b[39m\u001b[38;5;124m'\u001b[39m\u001b[38;5;124mleft\u001b[39m\u001b[38;5;124m'\u001b[39m)\n\u001b[0;32m      8\u001b[0m df_merged \u001b[38;5;241m=\u001b[39m df_merged\u001b[38;5;241m.\u001b[39mmerge(df_iqvu[[\u001b[38;5;124m'\u001b[39m\u001b[38;5;124mREGIONAL\u001b[39m\u001b[38;5;124m'\u001b[39m, \u001b[38;5;124m'\u001b[39m\u001b[38;5;124mï»¿SERIE\u001b[39m\u001b[38;5;124m'\u001b[39m, \u001b[38;5;124m'\u001b[39m\u001b[38;5;124mCODUP\u001b[39m\u001b[38;5;124m'\u001b[39m, \u001b[38;5;124m'\u001b[39m\u001b[38;5;124mNOMEUP\u001b[39m\u001b[38;5;124m'\u001b[39m]], on\u001b[38;5;241m=\u001b[39m\u001b[38;5;124m'\u001b[39m\u001b[38;5;124mREGIONAL\u001b[39m\u001b[38;5;124m'\u001b[39m, how\u001b[38;5;241m=\u001b[39m\u001b[38;5;124m'\u001b[39m\u001b[38;5;124mleft\u001b[39m\u001b[38;5;124m'\u001b[39m)\n",
      "File \u001b[1;32md:\\github\\TP2-IDB\\venv\\Lib\\site-packages\\pandas\\core\\frame.py:4108\u001b[0m, in \u001b[0;36mDataFrame.__getitem__\u001b[1;34m(self, key)\u001b[0m\n\u001b[0;32m   4106\u001b[0m     \u001b[38;5;28;01mif\u001b[39;00m is_iterator(key):\n\u001b[0;32m   4107\u001b[0m         key \u001b[38;5;241m=\u001b[39m \u001b[38;5;28mlist\u001b[39m(key)\n\u001b[1;32m-> 4108\u001b[0m     indexer \u001b[38;5;241m=\u001b[39m \u001b[38;5;28;43mself\u001b[39;49m\u001b[38;5;241;43m.\u001b[39;49m\u001b[43mcolumns\u001b[49m\u001b[38;5;241;43m.\u001b[39;49m\u001b[43m_get_indexer_strict\u001b[49m\u001b[43m(\u001b[49m\u001b[43mkey\u001b[49m\u001b[43m,\u001b[49m\u001b[43m \u001b[49m\u001b[38;5;124;43m\"\u001b[39;49m\u001b[38;5;124;43mcolumns\u001b[39;49m\u001b[38;5;124;43m\"\u001b[39;49m\u001b[43m)\u001b[49m[\u001b[38;5;241m1\u001b[39m]\n\u001b[0;32m   4110\u001b[0m \u001b[38;5;66;03m# take() does not accept boolean indexers\u001b[39;00m\n\u001b[0;32m   4111\u001b[0m \u001b[38;5;28;01mif\u001b[39;00m \u001b[38;5;28mgetattr\u001b[39m(indexer, \u001b[38;5;124m\"\u001b[39m\u001b[38;5;124mdtype\u001b[39m\u001b[38;5;124m\"\u001b[39m, \u001b[38;5;28;01mNone\u001b[39;00m) \u001b[38;5;241m==\u001b[39m \u001b[38;5;28mbool\u001b[39m:\n",
      "File \u001b[1;32md:\\github\\TP2-IDB\\venv\\Lib\\site-packages\\pandas\\core\\indexes\\base.py:6200\u001b[0m, in \u001b[0;36mIndex._get_indexer_strict\u001b[1;34m(self, key, axis_name)\u001b[0m\n\u001b[0;32m   6197\u001b[0m \u001b[38;5;28;01melse\u001b[39;00m:\n\u001b[0;32m   6198\u001b[0m     keyarr, indexer, new_indexer \u001b[38;5;241m=\u001b[39m \u001b[38;5;28mself\u001b[39m\u001b[38;5;241m.\u001b[39m_reindex_non_unique(keyarr)\n\u001b[1;32m-> 6200\u001b[0m \u001b[38;5;28;43mself\u001b[39;49m\u001b[38;5;241;43m.\u001b[39;49m\u001b[43m_raise_if_missing\u001b[49m\u001b[43m(\u001b[49m\u001b[43mkeyarr\u001b[49m\u001b[43m,\u001b[49m\u001b[43m \u001b[49m\u001b[43mindexer\u001b[49m\u001b[43m,\u001b[49m\u001b[43m \u001b[49m\u001b[43maxis_name\u001b[49m\u001b[43m)\u001b[49m\n\u001b[0;32m   6202\u001b[0m keyarr \u001b[38;5;241m=\u001b[39m \u001b[38;5;28mself\u001b[39m\u001b[38;5;241m.\u001b[39mtake(indexer)\n\u001b[0;32m   6203\u001b[0m \u001b[38;5;28;01mif\u001b[39;00m \u001b[38;5;28misinstance\u001b[39m(key, Index):\n\u001b[0;32m   6204\u001b[0m     \u001b[38;5;66;03m# GH 42790 - Preserve name from an Index\u001b[39;00m\n",
      "File \u001b[1;32md:\\github\\TP2-IDB\\venv\\Lib\\site-packages\\pandas\\core\\indexes\\base.py:6252\u001b[0m, in \u001b[0;36mIndex._raise_if_missing\u001b[1;34m(self, key, indexer, axis_name)\u001b[0m\n\u001b[0;32m   6249\u001b[0m     \u001b[38;5;28;01mraise\u001b[39;00m \u001b[38;5;167;01mKeyError\u001b[39;00m(\u001b[38;5;124mf\u001b[39m\u001b[38;5;124m\"\u001b[39m\u001b[38;5;124mNone of [\u001b[39m\u001b[38;5;132;01m{\u001b[39;00mkey\u001b[38;5;132;01m}\u001b[39;00m\u001b[38;5;124m] are in the [\u001b[39m\u001b[38;5;132;01m{\u001b[39;00maxis_name\u001b[38;5;132;01m}\u001b[39;00m\u001b[38;5;124m]\u001b[39m\u001b[38;5;124m\"\u001b[39m)\n\u001b[0;32m   6251\u001b[0m not_found \u001b[38;5;241m=\u001b[39m \u001b[38;5;28mlist\u001b[39m(ensure_index(key)[missing_mask\u001b[38;5;241m.\u001b[39mnonzero()[\u001b[38;5;241m0\u001b[39m]]\u001b[38;5;241m.\u001b[39munique())\n\u001b[1;32m-> 6252\u001b[0m \u001b[38;5;28;01mraise\u001b[39;00m \u001b[38;5;167;01mKeyError\u001b[39;00m(\u001b[38;5;124mf\u001b[39m\u001b[38;5;124m\"\u001b[39m\u001b[38;5;132;01m{\u001b[39;00mnot_found\u001b[38;5;132;01m}\u001b[39;00m\u001b[38;5;124m not in index\u001b[39m\u001b[38;5;124m\"\u001b[39m)\n",
      "\u001b[1;31mKeyError\u001b[0m: \"['REGIONAL'] not in index\""
     ]
    }
   ],
   "source": [
    "df_merged = df_cadunico.merge(df_up[['REGIONAL', 'Regional']], on='Regional', how='left')\n",
    "df_merged = df_merged.merge(df_coletas[['REGIONAL', 'ANO', 'MODALIDADE', 'OPERADOR', 'DISTRITO']], on='REGIONAL', how='left')\n",
    "df_merged = df_merged.merge(df_iqvu[['REGIONAL', 'ï»¿SERIE', 'CODUP', 'NOMEUP']], on='REGIONAL', how='left')\n",
    "\n",
    "# Exibir as primeiras linhas para verificar o resultado\n",
    "print(df_merged.head())"
   ]
  }
 ],
 "metadata": {
  "kernelspec": {
   "display_name": "venv",
   "language": "python",
   "name": "python3"
  },
  "language_info": {
   "codemirror_mode": {
    "name": "ipython",
    "version": 3
   },
   "file_extension": ".py",
   "mimetype": "text/x-python",
   "name": "python",
   "nbconvert_exporter": "python",
   "pygments_lexer": "ipython3",
   "version": "3.11.9"
  }
 },
 "nbformat": 4,
 "nbformat_minor": 2
}
